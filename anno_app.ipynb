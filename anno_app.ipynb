{
 "cells": [
  {
   "cell_type": "code",
   "execution_count": null,
   "metadata": {},
   "outputs": [],
   "source": [
    "%%javascript\n",
    "$('#appmode-leave').hide();                          // Hides the edit app button.\n",
    "$('#appmode-busy').hide();                           // Hides the kernel busy indicator."
   ]
  },
  {
   "cell_type": "code",
   "execution_count": null,
   "metadata": {},
   "outputs": [],
   "source": [
    "# Google Forms / Sheets Code\n",
    "import urllib.request\n",
    "from bs4 import BeautifulSoup\n",
    "import requests, warnings\n",
    "def get_questions(in_url):\n",
    "    res = urllib.request.urlopen(in_url)\n",
    "    soup = BeautifulSoup(res.read(), 'html.parser')\n",
    "    get_names = lambda f: [v for k,v in f.attrs.items() if 'label' in k]\n",
    "    get_name = lambda f: get_names(f)[0] if len(get_names(f))>0 else 'unknown'\n",
    "    all_questions = soup.form.findChildren(attrs={'name': lambda x: x and x.startswith('entry.')})\n",
    "    return {get_name(q): q['name'] for q in all_questions}\n",
    "def submit_response(form_url, cur_questions, verbose=False, **answers):\n",
    "    submit_url = form_url.replace('/viewform', '/formResponse')\n",
    "    form_data = {'draftResponse':[],\n",
    "                'pageHistory':0}\n",
    "    for v in cur_questions.values():\n",
    "        form_data[v] = ''\n",
    "    for k, v in answers.items():\n",
    "        if k in cur_questions:\n",
    "            form_data[cur_questions[k]] = v\n",
    "        else:\n",
    "            warnings.warn('Unknown Question: {}'.format(k), RuntimeWarning)\n",
    "    if verbose:\n",
    "        print(form_data)\n",
    "    user_agent = {'Referer':form_url,\n",
    "                  'User-Agent': \"Mozilla/5.0 (X11; Linux i686) AppleWebKit/537.36 (KHTML, like Gecko) Chrome/28.0.1500.52 Safari/537.36\"}\n",
    "    return requests.post(submit_url, data=form_data, headers=user_agent)"
   ]
  },
  {
   "cell_type": "code",
   "execution_count": null,
   "metadata": {},
   "outputs": [],
   "source": [
    "import os\n",
    "import ipywidgets as ipw\n",
    "from glob import glob\n",
    "import json\n",
    "import pandas as pd\n",
    "import numpy as np\n",
    "from PIL import Image\n",
    "from itertools import cycle\n",
    "from io import BytesIO\n",
    "from time import time\n",
    "USERNAME=os.environ.get('APPMODE_USER', 'Not logged in')\n",
    "HOSTNAME=os.environ.get('HOSTNAME', 'anon')\n",
    "BUTTONS_PER_ROW = 3\n",
    "BUTTON_WIDTH = \"150px\"\n",
    "UNKNOWN_OPTION = 'Unknown'"
   ]
  },
  {
   "cell_type": "code",
   "execution_count": null,
   "metadata": {},
   "outputs": [],
   "source": [
    "with open('task.json', 'r') as f:\n",
    "    annotation_task = json.load(f)\n",
    "    annot_df = pd.DataFrame(annotation_task['dataset']['dataframe'])\n",
    "print('Loaded annotation task', annot_df.shape[0], 'images')\n",
    "button_ids = annot_df[annotation_task['dataset']['output_labels']].unique().tolist()\n",
    "if UNKNOWN_OPTION is not None:\n",
    "    button_ids += [UNKNOWN_OPTION]\n",
    "\n",
    "image_path_dict = {c_path: os.path.join(annotation_task['dataset']['base_image_directory'], \n",
    "                                    c_path)\n",
    "                                    for c_path in annot_df[annotation_task['dataset']['image_path']]}\n",
    "image_keys = list(image_path_dict.keys())"
   ]
  },
  {
   "cell_type": "code",
   "execution_count": null,
   "metadata": {},
   "outputs": [],
   "source": [
    "FORM_URL = annotation_task['google_forms']['form_url']\n",
    "anno_questions = get_questions(FORM_URL)"
   ]
  },
  {
   "cell_type": "code",
   "execution_count": null,
   "metadata": {},
   "outputs": [],
   "source": [
    "global out_rows\n",
    "out_rows = []\n",
    "def submit_label(label_id, label_name):\n",
    "    \"\"\"\n",
    "    should be linked to some kind of database\n",
    "    \"\"\"\n",
    "    global out_rows\n",
    "    print('Submitting', label_name, 'for', label_id, 'from', USERNAME, 'part of', HOSTNAME, '@', time())\n",
    "    submit_response(FORM_URL, anno_questions, \n",
    "                    annotator=USERNAME, \n",
    "                    session=HOSTNAME, \n",
    "                    time = time(),\n",
    "                    item_id = label_id,\n",
    "                    label = label_name,\n",
    "                    task = 'pneumonia_annotation'\n",
    "                   )\n",
    "    out_rows += [dict(label_name=label_name, label_id=label_id, user=USERNAME, session=HOSTNAME, time=time())]\n",
    "    return pd.DataFrame(out_rows).to_html()"
   ]
  },
  {
   "cell_type": "code",
   "execution_count": null,
   "metadata": {},
   "outputs": [],
   "source": [
    "title_box = ipw.HTML(value=f'<h1> Welcome {USERNAME}</h1><h2> Select the most appropriate label for the given image')\n",
    "cur_image_view = ipw.Image(layout=ipw.Layout(width=\"512px\"),  \n",
    "                  disabled=True)\n",
    "cur_img_id = ipw.Text(layout=ipw.Layout(width=\"64px\"),  \n",
    "                  disabled=True)\n",
    "annot_results = ipw.HTML(value='')\n",
    "\n",
    "SESSION_ID = None\n",
    "np.random.shuffle(image_keys)\n",
    "image_iter = cycle(iter(image_keys))\n",
    "\n",
    "def get_next_image():\n",
    "    c_key = next(image_iter)\n",
    "    cur_img_id.value = c_key\n",
    "    c_img = Image.open(image_path_dict[c_key])\n",
    "    bio_obj = BytesIO()\n",
    "    c_img.save(bio_obj, format='png')\n",
    "    bio_obj.seek(0)\n",
    "    cur_image_view.value=bio_obj.read()\n",
    "\n",
    "def on_click(btn):\n",
    "    if btn is not None:\n",
    "        annot_results.value = submit_label(cur_img_id.value, btn.description)\n",
    "    get_next_image()\n",
    "        \n",
    "\n",
    "def mk_btn(description):\n",
    "    btn = ipw.Button(description=description, layout=ipw.Layout(width=BUTTON_WIDTH))\n",
    "    btn.on_click(on_click)\n",
    "    return btn\n",
    "\n",
    "rows = []\n",
    "c_row = []\n",
    "for i, but_name in enumerate(button_ids, 1):\n",
    "    c_row+=[mk_btn(but_name)]\n",
    "    if (i % BUTTONS_PER_ROW)==0:\n",
    "        rows+=[ipw.HBox(c_row)]\n",
    "        c_row=[]\n",
    "rows+=[ipw.HBox(c_row)]\n",
    "on_click(None) # initialize\n",
    "ipw.VBox((title_box, cur_image_view)+tuple(rows)+(annot_results,))"
   ]
  },
  {
   "cell_type": "code",
   "execution_count": null,
   "metadata": {},
   "outputs": [],
   "source": []
  },
  {
   "cell_type": "code",
   "execution_count": null,
   "metadata": {},
   "outputs": [],
   "source": []
  }
 ],
 "metadata": {
  "kernelspec": {
   "display_name": "Python 3",
   "language": "python",
   "name": "python3"
  },
  "language_info": {
   "codemirror_mode": {
    "name": "ipython",
    "version": 3
   },
   "file_extension": ".py",
   "mimetype": "text/x-python",
   "name": "python",
   "nbconvert_exporter": "python",
   "pygments_lexer": "ipython3",
   "version": "3.6.5"
  }
 },
 "nbformat": 4,
 "nbformat_minor": 2
}
