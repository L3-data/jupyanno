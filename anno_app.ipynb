{
 "cells": [
  {
   "cell_type": "code",
   "execution_count": 1,
   "metadata": {},
   "outputs": [
    {
     "data": {
      "application/javascript": [
       "$('#appmode-leave').hide();                          // Hides the edit app button.\n",
       "$('#appmode-busy').hide();                           // Hides the kernel busy indicator.\n",
       "IPython.OutputArea.prototype._should_scroll = function(lines) {\n",
       "  return false; // disable scrolling\n",
       "}"
      ],
      "text/plain": [
       "<IPython.core.display.Javascript object>"
      ]
     },
     "metadata": {},
     "output_type": "display_data"
    }
   ],
   "source": [
    "%%javascript\n",
    "$('#appmode-leave').hide();                          // Hides the edit app button.\n",
    "$('#appmode-busy').hide();                           // Hides the kernel busy indicator.\n",
    "IPython.OutputArea.prototype._should_scroll = function(lines) {\n",
    "  return false; // disable scrolling\n",
    "}"
   ]
  },
  {
   "cell_type": "code",
   "execution_count": 2,
   "metadata": {},
   "outputs": [],
   "source": [
    "# Google Forms / Sheets Code\n",
    "import urllib.request\n",
    "from bs4 import BeautifulSoup\n",
    "import requests, warnings\n",
    "\n",
    "def get_questions(in_url):\n",
    "    res = urllib.request.urlopen(in_url)\n",
    "    soup = BeautifulSoup(res.read(), 'html.parser')\n",
    "    get_names = lambda f: [v for k,v in f.attrs.items() if 'label' in k]\n",
    "    get_name = lambda f: get_names(f)[0] if len(get_names(f))>0 else 'unknown'\n",
    "    all_questions = soup.form.findChildren(attrs={'name': lambda x: x and x.startswith('entry.')})\n",
    "    return {get_name(q): q['name'] for q in all_questions}\n",
    "def submit_response(form_url, cur_questions, verbose=False, **answers):\n",
    "    submit_url = form_url.replace('/viewform', '/formResponse')\n",
    "    form_data = {'draftResponse':[],\n",
    "                'pageHistory':0}\n",
    "    for v in cur_questions.values():\n",
    "        form_data[v] = ''\n",
    "    for k, v in answers.items():\n",
    "        if k in cur_questions:\n",
    "            form_data[cur_questions[k]] = v\n",
    "        else:\n",
    "            warnings.warn('Unknown Question: {}'.format(k), RuntimeWarning)\n",
    "    if verbose:\n",
    "        print(form_data)\n",
    "    user_agent = {'Referer':form_url,\n",
    "                  'User-Agent': \"Mozilla/5.0 (X11; Linux i686) AppleWebKit/537.36 (KHTML, like Gecko) Chrome/28.0.1500.52 Safari/537.36\"}\n",
    "    return requests.post(submit_url, data=form_data, headers=user_agent)"
   ]
  },
  {
   "cell_type": "code",
   "execution_count": 3,
   "metadata": {},
   "outputs": [
    {
     "name": "stderr",
     "output_type": "stream",
     "text": [
      "/srv/conda/lib/python3.6/importlib/_bootstrap.py:219: RuntimeWarning: numpy.dtype size changed, may indicate binary incompatibility. Expected 96, got 88\n",
      "  return f(*args, **kwds)\n",
      "/srv/conda/lib/python3.6/importlib/_bootstrap.py:219: RuntimeWarning: numpy.dtype size changed, may indicate binary incompatibility. Expected 96, got 88\n",
      "  return f(*args, **kwds)\n"
     ]
    }
   ],
   "source": [
    "import os\n",
    "import ipywidgets as ipw\n",
    "from glob import glob\n",
    "import json\n",
    "import pandas as pd\n",
    "import numpy as np\n",
    "from PIL import Image\n",
    "from itertools import cycle\n",
    "from io import BytesIO\n",
    "from time import time\n",
    "from collections import namedtuple\n",
    "from IPython.display import display\n",
    "USERNAME=os.environ.get('APPMODE_USER', 'Not logged in')\n",
    "HOSTNAME=os.environ.get('HOSTNAME', 'anon')\n",
    "BUTTONS_PER_ROW = 3\n",
    "BUTTON_WIDTH = \"150px\"\n",
    "UNKNOWN_OPTION = 'Unknown'"
   ]
  },
  {
   "cell_type": "code",
   "execution_count": 4,
   "metadata": {},
   "outputs": [
    {
     "name": "stdout",
     "output_type": "stream",
     "text": [
      "Loaded annotation task 110 images\n"
     ]
    }
   ],
   "source": [
    "with open('task.json', 'r') as f:\n",
    "    annotation_task = json.load(f)\n",
    "    annot_df = pd.DataFrame(annotation_task['dataset']['dataframe'])\n",
    "print('Loaded annotation task', annot_df.shape[0], 'images')"
   ]
  },
  {
   "cell_type": "code",
   "execution_count": 5,
   "metadata": {},
   "outputs": [],
   "source": [
    "image_path_dict = {c_path: os.path.join(annotation_task['dataset']['base_image_directory'], \n",
    "                                    c_path)\n",
    "                                    for c_path in annot_df[annotation_task['dataset']['image_path']]}\n",
    "category_ids = sorted(annot_df[annotation_task['dataset']['output_labels']].unique().tolist())\n",
    "if UNKNOWN_OPTION is not None:\n",
    "    category_ids += [UNKNOWN_OPTION]   "
   ]
  },
  {
   "cell_type": "code",
   "execution_count": 6,
   "metadata": {},
   "outputs": [],
   "source": [
    "mc_question = namedtuple('MultipleChoiceAnswer', ['answer', 'question'])\n",
    "TaskResult = namedtuple('TaskResult', ['annotation_mode', 'task', 'item_id', 'label'])\n",
    "\n",
    "\n",
    "class SimpleImageViewer:\n",
    "    def __init__(self):\n",
    "        self.cur_image_view = ipw.Image(layout=ipw.Layout(width=\"512px\"),  \n",
    "                  disabled=True)\n",
    "        \n",
    "    def load_image_path(self, path):\n",
    "        c_img = Image.open(path)\n",
    "        bio_obj = BytesIO()\n",
    "        c_img.save(bio_obj, format='png')\n",
    "        bio_obj.seek(0)\n",
    "        self.cur_image_view.value=bio_obj.read()\n",
    "        \n",
    "    def get_widget(self):\n",
    "        return self.cur_image_view\n",
    "\n",
    "\n",
    "class MultipleChoiceQuestion:\n",
    "    def __init__(self, question, labels):\n",
    "        self.question = question\n",
    "        self.labels = labels\n",
    "        self.question_box = ipw.HTML(value='<h2>{}</h2>'.format(question))\n",
    "        self._make_buttons(labels)\n",
    "        self.submit_func = None\n",
    "        \n",
    "    def on_submit(self, submit_func):\n",
    "        self.submit_func = submit_func\n",
    "        \n",
    "    def mk_btn(self, description):\n",
    "        btn = ipw.Button(description=description, \n",
    "                         layout=ipw.Layout(width=BUTTON_WIDTH))\n",
    "        def on_click(btn):\n",
    "            if btn is not None and self.submit_func is not None:\n",
    "                self.submit_func(mc_question(btn.description, self.question))\n",
    "        btn.on_click(on_click)\n",
    "        return btn\n",
    "    \n",
    "    def get_widget(self):\n",
    "        return ipw.VBox([self.question_box]+self.button_rows)\n",
    "    \n",
    "    def _make_buttons(self, button_ids):\n",
    "        self.button_rows = []\n",
    "        c_row = []\n",
    "        for i, but_name in enumerate(button_ids, 1):\n",
    "            c_row+=[self.mk_btn(but_name)]\n",
    "            if (i % BUTTONS_PER_ROW)==0:\n",
    "                self.button_rows+=[ipw.HBox(c_row)]\n",
    "                c_row=[]\n",
    "        self.button_rows+=[ipw.HBox(c_row)]\n",
    "\n",
    "class MultiClassTask:\n",
    "    def __init__(self, labels, images, seed=None):\n",
    "        self.labels = labels\n",
    "        self.images = images\n",
    "        self.image_keys = sorted(list(images.keys()))\n",
    "        self.submit_event = None\n",
    "        self.task_widget = SimpleImageViewer()\n",
    "        self.answer_widget = MultipleChoiceQuestion('Select the most appropriate label for the given image', labels)\n",
    "        self.answer_widget.on_submit(lambda x: self._local_submit(x))\n",
    "        self.current_image_id = None\n",
    "        self.set_seed(seed)\n",
    "        self._local_submit(mc_question(question='', answer=''))\n",
    "    \n",
    "    def get_widget(self):\n",
    "        return ipw.HBox([self.task_widget.get_widget(), self.answer_widget.get_widget()])\n",
    "                        \n",
    "    def set_seed(self, seed):\n",
    "        if seed is not None:\n",
    "            np.random.seed(seed)\n",
    "            \n",
    "    def _ipython_display_(self):\n",
    "        display(self.get_widget())\n",
    "    \n",
    "    def on_submit(self, on_submit):\n",
    "        self.submit_event = on_submit\n",
    "    \n",
    "    def _local_submit(self, mc_answer):\n",
    "        c_task = TaskResult(annotation_mode='MultiClass', \n",
    "                            task=','.join(self.labels),\n",
    "                            item_id=self.current_image_id,\n",
    "                            label=mc_answer.answer\n",
    "                  )\n",
    "        \n",
    "        # get next question\n",
    "        image_key = np.random.choice(self.image_keys)\n",
    "        # update image\n",
    "        self.task_widget.load_image_path(self.images[image_key])\n",
    "        \n",
    "        self.current_image_id = image_key\n",
    "        # submit results to backend\n",
    "        \n",
    "        if self.submit_event is not None:\n",
    "            self.submit_event(c_task)"
   ]
  },
  {
   "cell_type": "code",
   "execution_count": 7,
   "metadata": {},
   "outputs": [],
   "source": [
    "FORM_URL = annotation_task['google_forms']['form_url']\n",
    "anno_questions = get_questions(FORM_URL)\n",
    "def submit_label(task_result):\n",
    "    \"\"\"\n",
    "    should be linked to some kind of database\n",
    "    \"\"\"\n",
    "    print('Submitting', task_result.label, 'for', task_result.item_id, 'from', USERNAME, 'part of', HOSTNAME, '@', time())\n",
    "    submit_response(FORM_URL, anno_questions, \n",
    "                    annotator=USERNAME, \n",
    "                    session=HOSTNAME, \n",
    "                    time = time(),\n",
    "                    item_id = task_result.item_id,\n",
    "                    label = task_result.label,\n",
    "                    task = task_result.task,\n",
    "                    annotation_mode=task_result.annotation_mode\n",
    "                   )"
   ]
  },
  {
   "cell_type": "code",
   "execution_count": 8,
   "metadata": {},
   "outputs": [
    {
     "data": {
      "application/vnd.jupyter.widget-view+json": {
       "model_id": "c12fcbf6a44949ce91a4a614706fe042",
       "version_major": 2,
       "version_minor": 0
      },
      "text/plain": [
       "VBox(children=(HTML(value='<h1> Welcome random_githubber</h1>'), HBox(children=(Image(value=b'\\x89PNG\\r\\n\\x1a\\…"
      ]
     },
     "metadata": {},
     "output_type": "display_data"
    }
   ],
   "source": [
    "title_box = ipw.HTML(value=f'<h1> Welcome {USERNAME}</h1>')\n",
    "task_widget = MultiClassTask(category_ids, image_path_dict)\n",
    "task_widget.on_submit(submit_label)\n",
    "ipw.VBox([title_box, task_widget.get_widget()])"
   ]
  },
  {
   "cell_type": "code",
   "execution_count": null,
   "metadata": {},
   "outputs": [],
   "source": []
  }
 ],
 "metadata": {
  "kernel_info": {
   "name": "python3"
  },
  "kernelspec": {
   "display_name": "Python 3",
   "language": "python",
   "name": "python3"
  },
  "language_info": {
   "codemirror_mode": {
    "name": "ipython",
    "version": 3
   },
   "file_extension": ".py",
   "mimetype": "text/x-python",
   "name": "python",
   "nbconvert_exporter": "python",
   "pygments_lexer": "ipython3",
   "version": "3.6.3"
  },
  "nteract": {
   "version": "0.11.2"
  }
 },
 "nbformat": 4,
 "nbformat_minor": 2
}
