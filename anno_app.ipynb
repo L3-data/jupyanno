{
 "cells": [
  {
   "cell_type": "code",
   "execution_count": 1,
   "metadata": {},
   "outputs": [
    {
     "data": {
      "application/javascript": [
       "$('#appmode-leave').hide();                          // Hides the edit app button.\n",
       "$('#appmode-busy').hide();                           // Hides the kernel busy indicator.\n",
       "IPython.OutputArea.prototype._should_scroll = function(lines) {\n",
       "  return false; // disable scrolling\n",
       "}"
      ],
      "text/plain": [
       "<IPython.core.display.Javascript object>"
      ]
     },
     "metadata": {},
     "output_type": "display_data"
    }
   ],
   "source": [
    "%%javascript\n",
    "$('#appmode-leave').hide();                          // Hides the edit app button.\n",
    "$('#appmode-busy').hide();                           // Hides the kernel busy indicator.\n",
    "IPython.OutputArea.prototype._should_scroll = function(lines) {\n",
    "  return false; // disable scrolling\n",
    "}"
   ]
  },
  {
   "cell_type": "code",
   "execution_count": 2,
   "metadata": {},
   "outputs": [],
   "source": [
    "# Google Forms / Sheets Code\n",
    "import urllib.request\n",
    "from bs4 import BeautifulSoup\n",
    "import requests, warnings\n",
    "def get_questions(in_url):\n",
    "    res = urllib.request.urlopen(in_url)\n",
    "    soup = BeautifulSoup(res.read(), 'html.parser')\n",
    "    get_names = lambda f: [v for k,v in f.attrs.items() if 'label' in k]\n",
    "    get_name = lambda f: get_names(f)[0] if len(get_names(f))>0 else 'unknown'\n",
    "    all_questions = soup.form.findChildren(attrs={'name': lambda x: x and x.startswith('entry.')})\n",
    "    return {get_name(q): q['name'] for q in all_questions}\n",
    "def submit_response(form_url, cur_questions, verbose=False, **answers):\n",
    "    submit_url = form_url.replace('/viewform', '/formResponse')\n",
    "    form_data = {'draftResponse':[],\n",
    "                'pageHistory':0}\n",
    "    for v in cur_questions.values():\n",
    "        form_data[v] = ''\n",
    "    for k, v in answers.items():\n",
    "        if k in cur_questions:\n",
    "            form_data[cur_questions[k]] = v\n",
    "        else:\n",
    "            warnings.warn('Unknown Question: {}'.format(k), RuntimeWarning)\n",
    "    if verbose:\n",
    "        print(form_data)\n",
    "    user_agent = {'Referer':form_url,\n",
    "                  'User-Agent': \"Mozilla/5.0 (X11; Linux i686) AppleWebKit/537.36 (KHTML, like Gecko) Chrome/28.0.1500.52 Safari/537.36\"}\n",
    "    return requests.post(submit_url, data=form_data, headers=user_agent)"
   ]
  },
  {
   "cell_type": "code",
   "execution_count": 3,
   "metadata": {},
   "outputs": [
    {
     "name": "stderr",
     "output_type": "stream",
     "text": [
      "/srv/conda/lib/python3.6/importlib/_bootstrap.py:219: RuntimeWarning: numpy.dtype size changed, may indicate binary incompatibility. Expected 96, got 88\n",
      "  return f(*args, **kwds)\n",
      "/srv/conda/lib/python3.6/importlib/_bootstrap.py:219: RuntimeWarning: numpy.dtype size changed, may indicate binary incompatibility. Expected 96, got 88\n",
      "  return f(*args, **kwds)\n"
     ]
    }
   ],
   "source": [
    "import os\n",
    "import ipywidgets as ipw\n",
    "from glob import glob\n",
    "import json\n",
    "import pandas as pd\n",
    "import numpy as np\n",
    "from PIL import Image\n",
    "from itertools import cycle\n",
    "from io import BytesIO\n",
    "from time import time\n",
    "USERNAME=os.environ.get('APPMODE_USER', 'Not logged in')\n",
    "HOSTNAME=os.environ.get('HOSTNAME', 'anon')\n",
    "BUTTONS_PER_ROW = 3\n",
    "BUTTON_WIDTH = \"150px\"\n",
    "UNKNOWN_OPTION = 'Unknown'\n",
    "SINGLE_CATEGORY_MODE = True\n",
    "if SINGLE_CATEGORY_MODE:\n",
    "    BUTTONS_PER_ROW = 1"
   ]
  },
  {
   "cell_type": "code",
   "execution_count": 4,
   "metadata": {},
   "outputs": [
    {
     "name": "stdout",
     "output_type": "stream",
     "text": [
      "Loaded annotation task 110 images\n"
     ]
    }
   ],
   "source": [
    "with open('task.json', 'r') as f:\n",
    "    annotation_task = json.load(f)\n",
    "    annot_df = pd.DataFrame(annotation_task['dataset']['dataframe'])\n",
    "print('Loaded annotation task', annot_df.shape[0], 'images')"
   ]
  },
  {
   "cell_type": "code",
   "execution_count": 5,
   "metadata": {},
   "outputs": [],
   "source": [
    "image_path_dict = {c_path: os.path.join(annotation_task['dataset']['base_image_directory'], \n",
    "                                    c_path)\n",
    "                                    for c_path in annot_df[annotation_task['dataset']['image_path']]}\n",
    "category_ids = annot_df[annotation_task['dataset']['output_labels']].unique().tolist()\n",
    "image_keys = list(image_path_dict.keys())\n",
    "if SINGLE_CATEGORY_MODE:\n",
    "    button_ids = ['Yes', 'No']\n",
    "    def get_next_image_question_pair(seed=None):\n",
    "        if seed is not None:\n",
    "            np.random.seed(seed)\n",
    "        question = 'Does the image show signs of {}?'.format(np.random.choice(category_ids))\n",
    "        return question, np.random.choice(image_keys)\n",
    "else:    \n",
    "    button_ids = category_ids\n",
    "    def get_next_image_question_pair(seed=None):\n",
    "        if seed is not None:\n",
    "            np.random.seed(seed)\n",
    "        return 'Select the most appropriate label for the given image', np.random.choice(image_keys)\n",
    "\n",
    "if UNKNOWN_OPTION is not None:\n",
    "    button_ids += [UNKNOWN_OPTION]    "
   ]
  },
  {
   "cell_type": "code",
   "execution_count": 6,
   "metadata": {},
   "outputs": [],
   "source": [
    "FORM_URL = annotation_task['google_forms']['form_url']\n",
    "anno_questions = get_questions(FORM_URL)"
   ]
  },
  {
   "cell_type": "code",
   "execution_count": 7,
   "metadata": {},
   "outputs": [],
   "source": [
    "global out_rows\n",
    "out_rows = []\n",
    "def submit_label(label_id, label_name):\n",
    "    \"\"\"\n",
    "    should be linked to some kind of database\n",
    "    \"\"\"\n",
    "    global out_rows\n",
    "    print('Submitting', label_name, 'for', label_id, 'from', USERNAME, 'part of', HOSTNAME, '@', time())\n",
    "    submit_response(FORM_URL, anno_questions, \n",
    "                    annotator=USERNAME, \n",
    "                    session=HOSTNAME, \n",
    "                    time = time(),\n",
    "                    item_id = label_id,\n",
    "                    label = label_name,\n",
    "                    task = 'pneumonia_annotation'\n",
    "                   )\n",
    "    out_rows += [dict(label_name=label_name, label_id=label_id, user=USERNAME, session=HOSTNAME, time=time())]\n",
    "    return pd.DataFrame(out_rows).to_html()"
   ]
  },
  {
   "cell_type": "code",
   "execution_count": 12,
   "metadata": {},
   "outputs": [
    {
     "data": {
      "application/vnd.jupyter.widget-view+json": {
       "model_id": "8248c59f0e584030a8f7ab0f86eb6c46",
       "version_major": 2,
       "version_minor": 0
      },
      "text/plain": [
       "VBox(children=(HTML(value='<h1> Welcome dr_head</h1>'), HBox(children=(Image(value=b'\\x89PNG\\r\\n\\x1a\\n\\x00\\x00…"
      ]
     },
     "metadata": {},
     "output_type": "display_data"
    },
    {
     "name": "stdout",
     "output_type": "stream",
     "text": [
      "Submitting No for 00017199_006.png from dr_head part of jupyter-chestrays-2djupyanno-2d7x7uuhxf @ 1534150433.7154396\n",
      "Submitting Unknown for 00030323_030.png from dr_head part of jupyter-chestrays-2djupyanno-2d7x7uuhxf @ 1534150441.95584\n",
      "Submitting Yes for 00020259_001.png from dr_head part of jupyter-chestrays-2djupyanno-2d7x7uuhxf @ 1534150446.9748096\n",
      "Submitting Yes for 00020259_001.png from dr_head part of jupyter-chestrays-2djupyanno-2d7x7uuhxf @ 1534150448.8481047\n",
      "Submitting Yes for 00013128_010.png from dr_head part of jupyter-chestrays-2djupyanno-2d7x7uuhxf @ 1534150450.2742739\n",
      "Submitting Yes for 00000032_016.png from dr_head part of jupyter-chestrays-2djupyanno-2d7x7uuhxf @ 1534150452.090327\n",
      "Submitting Yes for 00020791_002.png from dr_head part of jupyter-chestrays-2djupyanno-2d7x7uuhxf @ 1534150453.74455\n",
      "Submitting Yes for 00015072_003.png from dr_head part of jupyter-chestrays-2djupyanno-2d7x7uuhxf @ 1534150456.5051274\n",
      "Submitting No for 00002224_007.png from dr_head part of jupyter-chestrays-2djupyanno-2d7x7uuhxf @ 1534150458.102279\n",
      "Submitting No for 00028180_006.png from dr_head part of jupyter-chestrays-2djupyanno-2d7x7uuhxf @ 1534150459.2031004\n",
      "Submitting Unknown for 00019766_018.png from dr_head part of jupyter-chestrays-2djupyanno-2d7x7uuhxf @ 1534150460.615813\n"
     ]
    }
   ],
   "source": [
    "title_box = ipw.HTML(value=f'<h1> Welcome {USERNAME}</h1>')\n",
    "question_box = ipw.HTML(value='')\n",
    "cur_image_view = ipw.Image(layout=ipw.Layout(width=\"512px\"),  \n",
    "                  disabled=True)\n",
    "cur_img_id = ipw.Text(layout=ipw.Layout(width=\"64px\"),  \n",
    "                  disabled=True)\n",
    "annot_results = ipw.HTML(value='')\n",
    "\n",
    "SESSION_ID = None\n",
    "\n",
    "def get_next_image():\n",
    "    c_label, c_key = get_next_image_question_pair()\n",
    "    \n",
    "    question_box.value='<h2>{}</h2>'.format(c_label)\n",
    "    cur_img_id.value = c_key\n",
    "    c_img = Image.open(image_path_dict[c_key])\n",
    "    bio_obj = BytesIO()\n",
    "    c_img.save(bio_obj, format='png')\n",
    "    bio_obj.seek(0)\n",
    "    cur_image_view.value=bio_obj.read()\n",
    "\n",
    "def on_click(btn):\n",
    "    if btn is not None:\n",
    "        annot_results.value = submit_label(cur_img_id.value, btn.description)\n",
    "    get_next_image()\n",
    "        \n",
    "\n",
    "def mk_btn(description):\n",
    "    btn = ipw.Button(description=description, layout=ipw.Layout(width=BUTTON_WIDTH))\n",
    "    if description=='Yes':\n",
    "        btn.style.button_color = 'lightgreen'\n",
    "    elif description=='No':\n",
    "        btn.style.button_color = 'pink'\n",
    "    btn.on_click(on_click)\n",
    "    return btn\n",
    "\n",
    "button_rows = []\n",
    "c_row = []\n",
    "for i, but_name in enumerate(button_ids, 1):\n",
    "    c_row+=[mk_btn(but_name)]\n",
    "    if (i % BUTTONS_PER_ROW)==0:\n",
    "        button_rows+=[ipw.HBox(c_row)]\n",
    "        c_row=[]\n",
    "button_rows+=[ipw.HBox(c_row)]\n",
    "\n",
    "on_click(None) # initialize\n",
    "\n",
    "annot_view = [title_box, \n",
    "          ipw.HBox([cur_image_view, ipw.VBox([question_box]+button_rows)])]\n",
    "\n",
    "ipw.VBox(annot_view)"
   ]
  },
  {
   "cell_type": "code",
   "execution_count": null,
   "metadata": {},
   "outputs": [],
   "source": []
  }
 ],
 "metadata": {
  "kernelspec": {
   "display_name": "Python 3",
   "language": "python",
   "name": "python3"
  },
  "language_info": {
   "codemirror_mode": {
    "name": "ipython",
    "version": 3
   },
   "file_extension": ".py",
   "mimetype": "text/x-python",
   "name": "python",
   "nbconvert_exporter": "python",
   "pygments_lexer": "ipython3",
   "version": "3.6.5"
  }
 },
 "nbformat": 4,
 "nbformat_minor": 2
}
