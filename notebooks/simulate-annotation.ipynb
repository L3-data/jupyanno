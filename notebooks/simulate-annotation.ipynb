{
 "cells": [
  {
   "cell_type": "code",
   "execution_count": 1,
   "metadata": {},
   "outputs": [],
   "source": [
    "%matplotlib inline\n",
    "import matplotlib.pyplot as plt"
   ]
  },
  {
   "cell_type": "code",
   "execution_count": 2,
   "metadata": {},
   "outputs": [],
   "source": [
    "import random"
   ]
  },
  {
   "cell_type": "code",
   "execution_count": 3,
   "metadata": {},
   "outputs": [],
   "source": [
    "#cases = ['a', 'a', 'b', 'b', 'c', 'c']\n",
    "cases = ['a'] * 10 + ['b'] * 10 + ['c'] * 10 + ['d']*10 + ['e']*10 + ['f']*10 + ['g']*10 + ['h']*10 + ['i']*10 + ['j']*10\n",
    "cases = ['a', 'b', 'c', 'd', 'e', 'f', 'g', 'h', 'i', 'j']\n",
    "cases *= 10"
   ]
  },
  {
   "cell_type": "code",
   "execution_count": 4,
   "metadata": {},
   "outputs": [
    {
     "name": "stdout",
     "output_type": "stream",
     "text": [
      "100\n"
     ]
    }
   ],
   "source": [
    "print(len(cases))"
   ]
  },
  {
   "cell_type": "code",
   "execution_count": 5,
   "metadata": {},
   "outputs": [],
   "source": [
    "def make_question():\n",
    "    c = random.choice(list(set(cases)))\n",
    "    return \"is this image {}\".format(c), c\n",
    "\n",
    "def pick_case(cases):\n",
    "    return random.choice(cases)"
   ]
  },
  {
   "cell_type": "code",
   "execution_count": 6,
   "metadata": {},
   "outputs": [
    {
     "data": {
      "text/plain": [
       "('is this image i', 'i')"
      ]
     },
     "execution_count": 6,
     "metadata": {},
     "output_type": "execute_result"
    }
   ],
   "source": [
    "make_question()"
   ]
  },
  {
   "cell_type": "code",
   "execution_count": 7,
   "metadata": {},
   "outputs": [],
   "source": [
    "answers = []\n",
    "def simulate_ape(strategy='guess'):\n",
    "    correct = 0\n",
    "    for n in range(30):\n",
    "        text, choice = make_question()\n",
    "        true_label = pick_case(cases)\n",
    "        # guess\n",
    "        if strategy == 'guess':\n",
    "            if random.random() > 0.5:\n",
    "                choice = \"!\" + choice\n",
    "            else:\n",
    "                choice = ' ' + choice\n",
    "\n",
    "        # always say no\n",
    "        elif strategy == 'no':\n",
    "            choice = \"!\" + choice\n",
    "        \n",
    "        # always say yes to drugs\n",
    "        elif strategy == 'yes':\n",
    "            choice = ' ' + choice\n",
    "\n",
    "        #print(choice, true_label, '->', end=' ')\n",
    "\n",
    "        if \"!\" in choice:\n",
    "            if choice[1] != true_label:\n",
    "                #print('C')\n",
    "                correct += 1\n",
    "            else:\n",
    "                #print('W')\n",
    "                pass\n",
    "        else:\n",
    "            if choice[1] == true_label:\n",
    "                #print('C')\n",
    "                correct += 1\n",
    "            else:\n",
    "                #print('W')\n",
    "                pass\n",
    "        \n",
    "        answers.append(choice)\n",
    "        \n",
    "    return correct"
   ]
  },
  {
   "cell_type": "code",
   "execution_count": 8,
   "metadata": {},
   "outputs": [
    {
     "data": {
      "text/plain": [
       "27"
      ]
     },
     "execution_count": 8,
     "metadata": {},
     "output_type": "execute_result"
    }
   ],
   "source": [
    "simulate_ape('no')"
   ]
  },
  {
   "cell_type": "code",
   "execution_count": 9,
   "metadata": {},
   "outputs": [
    {
     "name": "stdout",
     "output_type": "stream",
     "text": [
      "2.995\n"
     ]
    },
    {
     "data": {
      "text/plain": [
       "<matplotlib.text.Text at 0x7f0be675cd68>"
      ]
     },
     "execution_count": 9,
     "metadata": {},
     "output_type": "execute_result"
    },
    {
     "data": {
      "image/png": "[encoded data removed]",
      "text/plain": [
       "<matplotlib.figure.Figure at 0x7f0be877c630>"
      ]
     },
     "metadata": {},
     "output_type": "display_data"
    }
   ],
   "source": [
    "corrects = []\n",
    "for n in range(1000):\n",
    "    corrects.append(simulate_ape('yes'))\n",
    "print(sum(corrects) / len(corrects))\n",
    "plt.hist(corrects, range=(0, 30), bins=30)\n",
    "plt.title('always say yes')"
   ]
  },
  {
   "cell_type": "code",
   "execution_count": 10,
   "metadata": {},
   "outputs": [
    {
     "name": "stdout",
     "output_type": "stream",
     "text": [
      "27.115\n"
     ]
    },
    {
     "data": {
      "text/plain": [
       "<matplotlib.text.Text at 0x7f0be6446f60>"
      ]
     },
     "execution_count": 10,
     "metadata": {},
     "output_type": "execute_result"
    },
    {
     "data": {
      "image/png": "[encoded data removed]",
      "text/plain": [
       "<matplotlib.figure.Figure at 0x7f0be64a0860>"
      ]
     },
     "metadata": {},
     "output_type": "display_data"
    }
   ],
   "source": [
    "corrects = []\n",
    "for n in range(1000):\n",
    "    corrects.append(simulate_ape('no'))\n",
    "print(sum(corrects) / len(corrects))\n",
    "plt.hist(corrects, range=(0, 30), bins=30)\n",
    "plt.title('always say no')"
   ]
  },
  {
   "cell_type": "code",
   "execution_count": 11,
   "metadata": {},
   "outputs": [
    {
     "name": "stdout",
     "output_type": "stream",
     "text": [
      "14.97\n"
     ]
    },
    {
     "data": {
      "text/plain": [
       "<matplotlib.text.Text at 0x7f0be60ee198>"
      ]
     },
     "execution_count": 11,
     "metadata": {},
     "output_type": "execute_result"
    },
    {
     "data": {
      "image/png": "[encoded data removed]",
      "text/plain": [
       "<matplotlib.figure.Figure at 0x7f0be60ba6a0>"
      ]
     },
     "metadata": {},
     "output_type": "display_data"
    }
   ],
   "source": [
    "corrects = []\n",
    "for n in range(1000):\n",
    "    corrects.append(simulate_ape('guess'))\n",
    "print(sum(corrects) / len(corrects))\n",
    "plt.hist(corrects, range=(0, 30), bins=30)\n",
    "plt.title('always guess')"
   ]
  },
  {
   "cell_type": "code",
   "execution_count": null,
   "metadata": {},
   "outputs": [],
   "source": []
  }
 ],
 "metadata": {
  "kernelspec": {
   "display_name": "Python 3",
   "language": "python",
   "name": "python3"
  },
  "language_info": {
   "codemirror_mode": {
    "name": "ipython",
    "version": 3
   },
   "file_extension": ".py",
   "mimetype": "text/x-python",
   "name": "python",
   "nbconvert_exporter": "python",
   "pygments_lexer": "ipython3",
   "version": "3.6.5"
  }
 },
 "nbformat": 4,
 "nbformat_minor": 2
}
