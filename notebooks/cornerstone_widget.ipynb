{
 "cells": [
  {
   "cell_type": "code",
   "execution_count": 1,
   "metadata": {},
   "outputs": [],
   "source": [
    "import jupyanno as ja\n",
    "import numpy as np"
   ]
  },
  {
   "cell_type": "code",
   "execution_count": 2,
   "metadata": {},
   "outputs": [],
   "source": [
    "from traitlets import Unicode, validate, Bytes, Int as TrInt\n",
    "import ipywidgets as widgets\n",
    "class CornerstoneWidget(widgets.DOMWidget):\n",
    "    _view_name = Unicode('CornerstoneWidget').tag(sync=True)\n",
    "    _view_module = Unicode('cs_widget').tag(sync=True)\n",
    "    _view_module_version = Unicode('0.1.0').tag(sync=True)\n",
    "    title_field = Unicode('Awesome Widget').tag(sync=True)\n",
    "    img_bytes = Unicode('AQAAAAAAAAABAAAAAAAAAAEA').tag(sync=True)\n",
    "    img_width = TrInt(3).tag(sync=True)\n",
    "    img_height= TrInt(3).tag(sync=True)"
   ]
  },
  {
   "cell_type": "code",
   "execution_count": 3,
   "metadata": {},
   "outputs": [
    {
     "data": {
      "application/javascript": [
       "require.config({\n",
       "  paths: {\n",
       "      'cornerstone-core': '//unpkg.com/cornerstone-core@2.2.4/dist/cornerstone.min',\n",
       "      cornerstoneMath: '//unpkg.com/cornerstone-math@0.1.6/dist/cornerstoneMath.min',\n",
       "      cornerstoneTools: '//unpkg.com/cornerstone-tools@2.3.9/dist/cornerstoneTools.min'\n",
       "  },\n",
       "    shim: {\n",
       "        'cornerstone-core': {\n",
       "            exports: 'cornerstone',\n",
       "            deps: ['jquery']\n",
       "        }\n",
       "    }\n",
       "});"
      ],
      "text/plain": [
       "<IPython.core.display.Javascript object>"
      ]
     },
     "metadata": {},
     "output_type": "display_data"
    }
   ],
   "source": [
    "%%javascript\n",
    "require.config({\n",
    "  paths: {\n",
    "      'cornerstone-core': '//unpkg.com/cornerstone-core@2.2.4/dist/cornerstone.min',\n",
    "      cornerstoneMath: '//unpkg.com/cornerstone-math@0.1.6/dist/cornerstoneMath.min',\n",
    "      cornerstoneTools: '//unpkg.com/cornerstone-tools@2.3.9/dist/cornerstoneTools.min'\n",
    "  },\n",
    "    shim: {\n",
    "        'cornerstone-core': {\n",
    "            exports: 'cornerstone',\n",
    "            deps: ['jquery']\n",
    "        }\n",
    "    }\n",
    "});"
   ]
  },
  {
   "cell_type": "code",
   "execution_count": 4,
   "metadata": {},
   "outputs": [
    {
     "data": {
      "application/javascript": [
       "require.undef('cs_widget');\n",
       "define('cs_widget', [\"@jupyter-widgets/base\", \"cornerstone-core\",\n",
       "                    'cornerstoneMath', 'cornerstoneTools'], \n",
       "       function(widgets, cs, cm, ctools) {\n",
       "            ctools.external.cornerstone = cs;\n",
       "            ctools.external.cornerstoneMath = cm;\n",
       "    var CornerstoneWidget = widgets.DOMWidgetView.extend({\n",
       "\n",
       "        render: function() {\n",
       "            this.message = document.createElement('div')\n",
       "            this.viewer = document.createElement('div')\n",
       "            var fv = $(this.viewer)\n",
       "            fv.width('512px');\n",
       "            fv.height('512px');\n",
       "            // Enable our tools\n",
       "            this.el.appendChild(this.message);\n",
       "            this.el.appendChild(this.viewer);\n",
       "            this.model.on('change:img_bytes', this.dicom_changed, this);\n",
       "            this.model.on('change:title_field', this.message_change, this);\n",
       "        },\n",
       "        \n",
       "        parse_image: function(imageB64Data, width, height) {\n",
       "            function str2ab(str) {\n",
       "                var buf = new ArrayBuffer(str.length*2); // 2 bytes for each char\n",
       "                var bufView = new Uint16Array(buf);\n",
       "                var index = 0;\n",
       "                for (var i=0, strLen=str.length; i<strLen; i+=2) {\n",
       "                    var lower = str.charCodeAt(i);\n",
       "                    var upper = str.charCodeAt(i+1);\n",
       "                    bufView[index] = lower + (upper <<8);\n",
       "                    index++;\n",
       "                }\n",
       "                return bufView;\n",
       "            }\n",
       "            function parsePixelData(base64PixelData, width, height)\n",
       "            {\n",
       "                var pixelDataAsString = window.atob(base64PixelData);\n",
       "                var pixelData = str2ab(pixelDataAsString);\n",
       "                return pixelData;\n",
       "            }\n",
       "            var imagePixelData = parsePixelData(imageB64Data);\n",
       "            console.log('decoding: '+width+'x'+height+' => '+imagePixelData.length)\n",
       "            function getPixelData() {\n",
       "                return imagePixelData;\n",
       "            }\n",
       "            return {\n",
       "                imageId: 'imageId',\n",
       "                minPixelValue: 0.0,\n",
       "                maxPixelValue: 255.0,\n",
       "                slope: 1.0,\n",
       "                intercept: 0.0,\n",
       "                windowCenter : 127,\n",
       "                windowWidth : 127,\n",
       "                getPixelData: getPixelData,\n",
       "                rows: width,\n",
       "                columns: height,\n",
       "                height: height,\n",
       "                width: width,\n",
       "                color: false,\n",
       "                columnPixelSpacing: .8984375,\n",
       "                rowPixelSpacing: .8984375,\n",
       "                sizeInBytes: height * width * 2\n",
       "            };\n",
       "        },\n",
       "        message_change: function() {\n",
       "            this.message.textContent = this.model.get('title_field');\n",
       "        },\n",
       "        dicom_changed: function() {\n",
       "            var img_bytes = this.model.get('img_bytes')\n",
       "            var img_width = this.model.get('img_width')\n",
       "            var img_height = this.model.get('img_height')\n",
       "            var out_img = this.parse_image(img_bytes, img_width, img_height);\n",
       "            cs.enable(this.viewer);\n",
       "            var viewport = cs.getDefaultViewportForImage(this.viewer, out_img);\n",
       "            console.log(out_img);\n",
       "            cs.displayImage(this.viewer, out_img, viewport);\n",
       "            ctools.mouseInput.enable(this.viewer);\n",
       "            ctools.mouseWheelInput.enable(this.viewer);\n",
       "            ctools.wwwc.activate(this.viewer, 1); // Left Click\n",
       "            ctools.pan.activate(this.viewer, 2); // Middle Click\n",
       "            ctools.zoom.activate(this.viewer, 4); // Right Click\n",
       "            ctools.zoomWheel.activate(this.viewer); // Mouse Wheel\n",
       "        },\n",
       "    });\n",
       "\n",
       "    return {\n",
       "        CornerstoneWidget : CornerstoneWidget\n",
       "    };\n",
       "});"
      ],
      "text/plain": [
       "<IPython.core.display.Javascript object>"
      ]
     },
     "metadata": {},
     "output_type": "display_data"
    }
   ],
   "source": [
    "%%javascript\n",
    "require.undef('cs_widget');\n",
    "define('cs_widget', [\"@jupyter-widgets/base\", \"cornerstone-core\",\n",
    "                    'cornerstoneMath', 'cornerstoneTools'], \n",
    "       function(widgets, cs, cm, ctools) {\n",
    "            ctools.external.cornerstone = cs;\n",
    "            ctools.external.cornerstoneMath = cm;\n",
    "    var CornerstoneWidget = widgets.DOMWidgetView.extend({\n",
    "\n",
    "        render: function() {\n",
    "            this.message = document.createElement('div')\n",
    "            this.viewer = document.createElement('div')\n",
    "            var fv = $(this.viewer)\n",
    "            fv.width('512px');\n",
    "            fv.height('512px');\n",
    "            // Enable our tools\n",
    "            this.el.appendChild(this.message);\n",
    "            this.el.appendChild(this.viewer);\n",
    "            this.model.on('change:img_bytes', this.dicom_changed, this);\n",
    "            this.model.on('change:title_field', this.message_change, this);\n",
    "        },\n",
    "        \n",
    "        parse_image: function(imageB64Data, width, height) {\n",
    "            function str2ab(str) {\n",
    "                var buf = new ArrayBuffer(str.length*2); // 2 bytes for each char\n",
    "                var bufView = new Uint16Array(buf);\n",
    "                var index = 0;\n",
    "                for (var i=0, strLen=str.length; i<strLen; i+=2) {\n",
    "                    var lower = str.charCodeAt(i);\n",
    "                    var upper = str.charCodeAt(i+1);\n",
    "                    bufView[index] = lower + (upper <<8);\n",
    "                    index++;\n",
    "                }\n",
    "                return bufView;\n",
    "            }\n",
    "            function parsePixelData(base64PixelData, width, height)\n",
    "            {\n",
    "                var pixelDataAsString = window.atob(base64PixelData);\n",
    "                var pixelData = str2ab(pixelDataAsString);\n",
    "                return pixelData;\n",
    "            }\n",
    "            var imagePixelData = parsePixelData(imageB64Data);\n",
    "            console.log('decoding: '+width+'x'+height+' => '+imagePixelData.length)\n",
    "            function getPixelData() {\n",
    "                return imagePixelData;\n",
    "            }\n",
    "            return {\n",
    "                imageId: 'imageId',\n",
    "                minPixelValue: 0.0,\n",
    "                maxPixelValue: 255.0,\n",
    "                slope: 1.0,\n",
    "                intercept: 0.0,\n",
    "                windowCenter : 127,\n",
    "                windowWidth : 127,\n",
    "                getPixelData: getPixelData,\n",
    "                rows: width,\n",
    "                columns: height,\n",
    "                height: height,\n",
    "                width: width,\n",
    "                color: false,\n",
    "                columnPixelSpacing: .8984375,\n",
    "                rowPixelSpacing: .8984375,\n",
    "                sizeInBytes: height * width * 2\n",
    "            };\n",
    "        },\n",
    "        message_change: function() {\n",
    "            this.message.textContent = this.model.get('title_field');\n",
    "        },\n",
    "        dicom_changed: function() {\n",
    "            var img_bytes = this.model.get('img_bytes')\n",
    "            var img_width = this.model.get('img_width')\n",
    "            var img_height = this.model.get('img_height')\n",
    "            var out_img = this.parse_image(img_bytes, img_width, img_height);\n",
    "            cs.enable(this.viewer);\n",
    "            var viewport = cs.getDefaultViewportForImage(this.viewer, out_img);\n",
    "            console.log(out_img);\n",
    "            cs.displayImage(this.viewer, out_img, viewport);\n",
    "            ctools.mouseInput.enable(this.viewer);\n",
    "            ctools.mouseWheelInput.enable(this.viewer);\n",
    "            ctools.wwwc.activate(this.viewer, 1); // Left Click\n",
    "            ctools.pan.activate(this.viewer, 2); // Middle Click\n",
    "            ctools.zoom.activate(this.viewer, 4); // Right Click\n",
    "            ctools.zoomWheel.activate(this.viewer); // Mouse Wheel\n",
    "        },\n",
    "    });\n",
    "\n",
    "    return {\n",
    "        CornerstoneWidget : CornerstoneWidget\n",
    "    };\n",
    "});"
   ]
  },
  {
   "cell_type": "code",
   "execution_count": 5,
   "metadata": {},
   "outputs": [
    {
     "data": {
      "application/vnd.jupyter.widget-view+json": {
       "model_id": "2b4728601bf640d08048071a3d802a20",
       "version_major": 2,
       "version_minor": 0
      },
      "text/plain": [
       "CornerstoneWidget()"
      ]
     },
     "metadata": {},
     "output_type": "display_data"
    }
   ],
   "source": [
    "w = CornerstoneWidget()\n",
    "w"
   ]
  },
  {
   "cell_type": "code",
   "execution_count": 6,
   "metadata": {},
   "outputs": [],
   "source": [
    "w.title_field = 'Cornerstone Widget'"
   ]
  },
  {
   "cell_type": "code",
   "execution_count": 7,
   "metadata": {},
   "outputs": [],
   "source": [
    "out_array = 255*np.eye(8)\n",
    "(w.img_width, w.img_height) = out_array.shape\n",
    "w.img_bytes  = ja.cornerstone.encode_numpy_b64(out_array)"
   ]
  },
  {
   "cell_type": "code",
   "execution_count": null,
   "metadata": {},
   "outputs": [],
   "source": []
  }
 ],
 "metadata": {
  "kernelspec": {
   "display_name": "Python 3",
   "language": "python",
   "name": "python3"
  },
  "language_info": {
   "codemirror_mode": {
    "name": "ipython",
    "version": 3
   },
   "file_extension": ".py",
   "mimetype": "text/x-python",
   "name": "python",
   "nbconvert_exporter": "python",
   "pygments_lexer": "ipython3",
   "version": "3.6.5"
  }
 },
 "nbformat": 4,
 "nbformat_minor": 2
}
